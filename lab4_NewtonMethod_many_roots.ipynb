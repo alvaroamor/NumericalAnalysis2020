{
  "nbformat": 4,
  "nbformat_minor": 0,
  "metadata": {
    "colab": {
      "name": "lab4_NewtonMethod_many_roots.ipynb",
      "provenance": [],
      "include_colab_link": true
    },
    "kernelspec": {
      "name": "python3",
      "display_name": "Python 3"
    }
  },
  "cells": [
    {
      "cell_type": "markdown",
      "metadata": {
        "id": "view-in-github",
        "colab_type": "text"
      },
      "source": [
        "<a href=\"https://colab.research.google.com/github/marcinwolter/NumericalAnalysis2020/blob/master/lab4_NewtonMethod_many_roots.ipynb\" target=\"_parent\"><img src=\"https://colab.research.google.com/assets/colab-badge.svg\" alt=\"Open In Colab\"/></a>"
      ]
    },
    {
      "cell_type": "markdown",
      "metadata": {
        "id": "uKbb5UZXCUMZ",
        "colab_type": "text"
      },
      "source": [
        "# **Newton's method**"
      ]
    },
    {
      "cell_type": "code",
      "metadata": {
        "id": "9exTWM9yCFPT",
        "trusted": false,
        "colab_type": "code",
        "colab": {
          "base_uri": "https://localhost:8080/",
          "height": 330
        },
        "outputId": "fc09758d-1449-40e1-ea8c-67d3a87c371b"
      },
      "source": [
        "# Defining Function\n",
        "import numpy as np\n",
        "\n",
        "def f(x):\n",
        "   return np.sin(4*x)*x\n",
        "\n",
        "# Defining derivative of function\n",
        "def g(x):\n",
        "   return np.sin(4*x)+4*np.cos(4*x)*x\n",
        "\n",
        "# Implementing Newton Method\n",
        "def newton(x0,e,N):\n",
        "   print('\\n\\n*** NEWTON METHOD IMPLEMENTATION ***')\n",
        "   step = 1\n",
        "   flag = 1\n",
        "   condition = True\n",
        "   while condition:\n",
        "      if g(x0) == 0.0:\n",
        "         print('Divide by zero error!')\n",
        "         break\n",
        "      x1 = x0 - f(x0)/g(x0)\n",
        "      print('Iteration-%d, x1 = %0.6f and f(x1) = %0.6f' % (step, x1, f(x1)))\n",
        "      x0 = x1\n",
        "      step = step + 1\n",
        "      if step > N:\n",
        "         flag = 0\n",
        "         break\n",
        "      condition = abs(f(x1)) > e\n",
        "      if flag==1:\n",
        "         print('\\nRequired root is: %0.8f' % x1)\n",
        "      else:\n",
        "         print('\\nNot Convergent.')\n",
        "   return x1      \n",
        "         \n",
        "# Input Section\n",
        "x0 = input('Enter Guess: ')\n",
        "e = input('Tolerable Error: ')\n",
        "N = input('Maximum Step: ')\n",
        "# Converting x0 and e to float\n",
        "x0 = float(x0)\n",
        "e = float(e)\n",
        "# Converting N to integer\n",
        "N = int(N)\n",
        "#Note: You can combine above three section like this\n",
        "# x0 = float(input('Enter Guess: '))\n",
        "# e = float(input('Tolerable Error: '))\n",
        "# N = int(input('Maximum Step: '))\n",
        "# Starting Newton Method\n",
        "x1 = newton(x0,e,N)\n"
      ],
      "execution_count": 1,
      "outputs": [
        {
          "output_type": "stream",
          "text": [
            "Enter Guess: 0.52\n",
            "Tolerable Error: 0.000001\n",
            "Maximum Step: 50\n",
            "\n",
            "\n",
            "*** NEWTON METHOD IMPLEMENTATION ***\n",
            "Iteration-1, x1 = 3.743957 and f(x1) = 2.502686\n",
            "\n",
            "Required root is: 3.74395665\n",
            "Iteration-2, x1 = 3.982996 and f(x1) = -0.884825\n",
            "\n",
            "Required root is: 3.98299575\n",
            "Iteration-3, x1 = 3.926838 and f(x1) = 0.002402\n",
            "\n",
            "Required root is: 3.92683787\n",
            "Iteration-4, x1 = 3.926991 and f(x1) = -0.000000\n",
            "\n",
            "Required root is: 3.92699082\n"
          ],
          "name": "stdout"
        }
      ]
    },
    {
      "cell_type": "code",
      "metadata": {
        "id": "rpYaM89IARCJ",
        "trusted": false,
        "colab_type": "code",
        "colab": {
          "base_uri": "https://localhost:8080/",
          "height": 265
        },
        "outputId": "503d38eb-808f-4ee2-b8f1-e2c081af3861"
      },
      "source": [
        "#plot function\n",
        "\n",
        "# Import pyplot as plt\n",
        "import matplotlib.pyplot as plt\n",
        "\n",
        "\n",
        "t = np.arange(min(x1,x0)-2, max(x1,x0)+2, 0.01)\n",
        "\n",
        "#plot the function\n",
        "ssin = f(t)\n",
        "zero = [0] * len(t)\n",
        "plt.plot(t, ssin, lw=2, label='function')\n",
        "plt.plot(t, zero, lw=3)\n",
        "\n",
        "# plot the root found\n",
        "plt.plot(t, g(x0)*t-g(x0)*x0+f(x0), '-.', color='grey', label='differential', lw=1)\n",
        "plt.plot(x1, f(x1), 'o', label='root')\n",
        "plt.plot(x0, f(x0), 'o', label='starting guess')\n",
        "\n",
        "\n",
        "plt.legend()\n",
        "plt.show()"
      ],
      "execution_count": 2,
      "outputs": [
        {
          "output_type": "display_data",
          "data": {
            "image/png": "[encoded data removed]",
            "text/plain": [
              "<Figure size 432x288 with 1 Axes>"
            ]
          },
          "metadata": {
            "tags": [],
            "needs_background": "light"
          }
        }
      ]
    }
  ]
}