{
  "nbformat": 4,
  "nbformat_minor": 0,
  "metadata": {
    "colab": {
      "name": "lab3_NewtonMethod.ipynb",
      "provenance": [],
      "authorship_tag": "ABX9TyMKihKVKcGahx/wuH5Gc3g7",
      "include_colab_link": true
    },
    "kernelspec": {
      "name": "python3",
      "display_name": "Python 3"
    }
  },
  "cells": [
    {
      "cell_type": "markdown",
      "metadata": {
        "id": "view-in-github",
        "colab_type": "text"
      },
      "source": [
        "<a href=\"https://colab.research.google.com/github/marcinwolter/NumericalAnalysis2020/blob/master/lab3_NewtonMethod.ipynb\" target=\"_parent\"><img src=\"https://colab.research.google.com/assets/colab-badge.svg\" alt=\"Open In Colab\"/></a>"
      ]
    },
    {
      "cell_type": "markdown",
      "metadata": {
        "id": "uKbb5UZXCUMZ",
        "colab_type": "text"
      },
      "source": [
        "# **Newton's method**"
      ]
    },
    {
      "cell_type": "code",
      "metadata": {
        "id": "9exTWM9yCFPT",
        "colab_type": "code",
        "colab": {
          "base_uri": "https://localhost:8080/",
          "height": 1000
        },
        "outputId": "7274bf21-12d2-4426-9c53-933326cc42cc"
      },
      "source": [
        "# Defining Function\n",
        "def f(x):\n",
        "   return x**3 - 5*x - 9\n",
        "\n",
        "# Defining derivative of function\n",
        "def g(x):\n",
        "   return 3*x**2 - 5\n",
        "\n",
        "# Implementing Newton Method\n",
        "def newton(x0,e,N):\n",
        "   print('\\n\\n*** NEWTON METHOD IMPLEMENTATION ***')\n",
        "   step = 1\n",
        "   flag = 1\n",
        "   condition = True\n",
        "   while condition:\n",
        "      if g(x0) == 0.0:\n",
        "         print('Divide by zero error!')\n",
        "         break\n",
        "      x1 = x0 - f(x0)/g(x0)\n",
        "      print('Iteration-%d, x1 = %0.6f and f(x1) = %0.6f' % (step, x1, f(x1)))\n",
        "      x0 = x1\n",
        "      step = step + 1\n",
        "      if step > N:\n",
        "         flag = 0\n",
        "         break\n",
        "      condition = abs(f(x1)) > e\n",
        "      if flag==1:\n",
        "         print('\\nRequired root is: %0.8f' % x1)\n",
        "      else:\n",
        "         print('\\nNot Convergent.')\n",
        "         \n",
        "# Input Section\n",
        "x0 = input('Enter Guess: ')\n",
        "e = input('Tolerable Error: ')\n",
        "N = input('Maximum Step: ')\n",
        "# Converting x0 and e to float\n",
        "x0 = float(x0)\n",
        "e = float(e)\n",
        "# Converting N to integer\n",
        "N = int(N)\n",
        "#Note: You can combine above three section like this\n",
        "# x0 = float(input('Enter Guess: '))\n",
        "# e = float(input('Tolerable Error: '))\n",
        "# N = int(input('Maximum Step: '))\n",
        "# Starting Newton Method\n",
        "newton(x0,e,N)\n"
      ],
      "execution_count": 3,
      "outputs": [
        {
          "output_type": "stream",
          "text": [
            "Enter Guess: 0\n",
            "Tolerable Error: 0.00001\n",
            "Maximum Step: 1000\n",
            "\n",
            "\n",
            "*** NEWTON METHOD IMPLEMENTATION ***\n",
            "Iteration-1, x1 = -1.800000 and f(x1) = -5.832000\n",
            "\n",
            "Required root is: -1.80000000\n",
            "Iteration-2, x1 = -0.564407 and f(x1) = -6.357761\n",
            "\n",
            "Required root is: -0.56440678\n",
            "Iteration-3, x1 = -2.136423 and f(x1) = -8.069169\n",
            "\n",
            "Required root is: -2.13642314\n",
            "Iteration-4, x1 = -1.208176 and f(x1) = -4.722681\n",
            "\n",
            "Required root is: -1.20817618\n",
            "Iteration-5, x1 = -8.813984 and f(x1) = -649.655974\n",
            "\n",
            "Required root is: -8.81398385\n",
            "Iteration-6, x1 = -5.965352 and f(x1) = -191.452809\n",
            "\n",
            "Required root is: -5.96535186\n",
            "Iteration-7, x1 = -4.083868 and f(x1) = -56.691306\n",
            "\n",
            "Required root is: -4.08386769\n",
            "Iteration-8, x1 = -2.825010 and f(x1) = -17.420454\n",
            "\n",
            "Required root is: -2.82500995\n",
            "Iteration-9, x1 = -1.905339 and f(x1) = -6.390287\n",
            "\n",
            "Required root is: -1.90533864\n",
            "Iteration-10, x1 = -0.820575 and f(x1) = -5.449655\n",
            "\n",
            "Required root is: -0.82057452\n",
            "Iteration-11, x1 = -2.649335 and f(x1) = -14.348940\n",
            "\n",
            "Required root is: -2.64933480\n",
            "Iteration-12, x1 = -1.755705 and f(x1) = -5.633437\n",
            "\n",
            "Required root is: -1.75570537\n",
            "Iteration-13, x1 = -0.429412 and f(x1) = -6.932122\n",
            "\n",
            "Required root is: -0.42941180\n",
            "Iteration-14, x1 = -1.988307 and f(x1) = -6.918970\n",
            "\n",
            "Required root is: -1.98830728\n",
            "Iteration-15, x1 = -0.979725 and f(x1) = -5.041774\n",
            "\n",
            "Required root is: -0.97972545\n",
            "Iteration-16, x1 = -3.357456 and f(x1) = -30.059686\n",
            "\n",
            "Required root is: -3.35745623\n",
            "Iteration-17, x1 = -2.314352 and f(x1) = -9.824434\n",
            "\n",
            "Required root is: -2.31435232\n",
            "Iteration-18, x1 = -1.426764 and f(x1) = -4.770580\n",
            "\n",
            "Required root is: -1.42676373\n",
            "Iteration-19, x1 = 2.882842 and f(x1) = 0.544456\n",
            "\n",
            "Required root is: 2.88284231\n",
            "Iteration-20, x1 = 2.855527 and f(x1) = 0.006432\n",
            "\n",
            "Required root is: 2.85552710\n",
            "Iteration-21, x1 = 2.855197 and f(x1) = 0.000001\n",
            "\n",
            "Required root is: 2.85519659\n"
          ],
          "name": "stdout"
        }
      ]
    }
  ]
}