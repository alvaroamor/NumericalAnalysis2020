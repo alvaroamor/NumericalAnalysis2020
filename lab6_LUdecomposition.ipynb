{
  "nbformat": 4,
  "nbformat_minor": 0,
  "metadata": {
    "colab": {
      "name": "lab6_LUdecomposition.ipynb",
      "provenance": [],
      "authorship_tag": "ABX9TyOKhmrl1sUU62cIGvOewPZ+",
      "include_colab_link": true
    },
    "kernelspec": {
      "name": "python3",
      "display_name": "Python 3"
    }
  },
  "cells": [
    {
      "cell_type": "markdown",
      "metadata": {
        "id": "view-in-github",
        "colab_type": "text"
      },
      "source": [
        "<a href=\"https://colab.research.google.com/github/marcinwolter/NumericalAnalysis2020/blob/master/lab6_LUdecomposition.ipynb\" target=\"_parent\"><img src=\"https://colab.research.google.com/assets/colab-badge.svg\" alt=\"Open In Colab\"/></a>"
      ]
    },
    {
      "cell_type": "code",
      "metadata": {
        "id": "PGzT6HyTkbUe",
        "colab_type": "code",
        "colab": {
          "base_uri": "https://localhost:8080/",
          "height": 625
        },
        "outputId": "7e2bba39-13f2-4818-a232-343a543661e0"
      },
      "source": [
        "# LU decomposition\n",
        "\n",
        "import numpy as np\n",
        "\n",
        "def LU_partial_decomposition(matrix):\n",
        "    n, m = matrix.shape\n",
        "    P = np.identity(n)\n",
        "    L = np.identity(n)\n",
        "    U = matrix.copy()\n",
        "    PF = np.identity(n)\n",
        "    LF = np.zeros((n,n))\n",
        "    for k in range(0, n - 1):\n",
        "        index = np.argmax(abs(U[k:,k]))\n",
        "        index = index + k \n",
        "\n",
        "        # here we do pivoting\n",
        "        if index != k:\n",
        "            P = np.identity(n)\n",
        "            P[[index,k],k:n] = P[[k,index],k:n]\n",
        "            U[[index,k],k:n] = U[[k,index],k:n] \n",
        "            PF = np.dot(P,PF)\n",
        "            LF = np.dot(P,LF)\n",
        "        # and here decomposition    \n",
        "        L = np.identity(n)\n",
        "        for j in range(k+1,n):\n",
        "            L[j,k] = -(U[j,k] / U[k,k])\n",
        "            LF[j,k] = (U[j,k] / U[k,k])\n",
        "        U = np.dot(L,U)\n",
        "    np.fill_diagonal(LF, 1)\n",
        "    return PF, LF, U\n",
        "\n",
        "# Usage\n",
        "A = [[2, 1, 1, 0], [4, 3, 3, 1], [8, 7, 9, 5], [6, 7, 9, 8]]\n",
        "A = np.array(A)\n",
        "P1, L1, U1 = LU_partial_decomposition(A)\n",
        "\n",
        "# Scipy\n",
        "import scipy\n",
        "import scipy.linalg\n",
        "#LU decomposition using linalg.lu library function\n",
        "P2, L2, U2 = scipy.linalg.lu(A) # P2 = P2.T  \n",
        "\n",
        "print(\"Input array:\")\n",
        "print(A)\n",
        "print(\" \")\n",
        "print(\"Result. Pivoting array:\")\n",
        "print(P1)\n",
        "print(\"L and U arrays:\")\n",
        "print(L1,\"\\n\", U1)\n",
        "print(\" \")\n",
        "print(\"Result using linalg.lu function. Pivoting array:\")\n",
        "print(P2.T)  # transponed array\n",
        "print(\"L and U arrays:\")\n",
        "print(L2,\"\\n\", U2)"
      ],
      "execution_count": 2,
      "outputs": [
        {
          "output_type": "stream",
          "text": [
            "Input array:\n",
            "[[2 1 1 0]\n",
            " [4 3 3 1]\n",
            " [8 7 9 5]\n",
            " [6 7 9 8]]\n",
            " \n",
            "Result. Pivoting array:\n",
            "[[0. 0. 1. 0.]\n",
            " [0. 0. 0. 1.]\n",
            " [0. 1. 0. 0.]\n",
            " [1. 0. 0. 0.]]\n",
            "L and U arrays:\n",
            "[[ 1.          0.          0.          0.        ]\n",
            " [ 0.75        1.          0.          0.        ]\n",
            " [ 0.5        -0.28571429  1.          0.        ]\n",
            " [ 0.25       -0.42857143  0.33333333  1.        ]] \n",
            " [[ 8.          7.          9.          5.        ]\n",
            " [ 0.          1.75        2.25        4.25      ]\n",
            " [ 0.          0.         -0.85714286 -0.28571429]\n",
            " [ 0.          0.          0.          0.66666667]]\n",
            " \n",
            "Result using linalg.lu function. Pivoting array:\n",
            "[[0. 0. 1. 0.]\n",
            " [0. 0. 0. 1.]\n",
            " [0. 1. 0. 0.]\n",
            " [1. 0. 0. 0.]]\n",
            "L and U arrays:\n",
            "[[ 1.          0.          0.          0.        ]\n",
            " [ 0.75        1.          0.          0.        ]\n",
            " [ 0.5        -0.28571429  1.          0.        ]\n",
            " [ 0.25       -0.42857143  0.33333333  1.        ]] \n",
            " [[ 8.          7.          9.          5.        ]\n",
            " [ 0.          1.75        2.25        4.25      ]\n",
            " [ 0.          0.         -0.85714286 -0.28571429]\n",
            " [ 0.          0.          0.          0.66666667]]\n"
          ],
          "name": "stdout"
        }
      ]
    }
  ]
}