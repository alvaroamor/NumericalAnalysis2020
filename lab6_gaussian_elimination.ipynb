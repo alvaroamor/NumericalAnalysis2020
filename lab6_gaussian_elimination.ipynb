{
  "nbformat": 4,
  "nbformat_minor": 0,
  "metadata": {
    "colab": {
      "name": "lab6_gaussian_elimination.ipynb",
      "provenance": [],
      "authorship_tag": "ABX9TyM3R89eyQouGVIsw/cnyc6t",
      "include_colab_link": true
    },
    "kernelspec": {
      "name": "python3",
      "display_name": "Python 3"
    }
  },
  "cells": [
    {
      "cell_type": "markdown",
      "metadata": {
        "id": "view-in-github",
        "colab_type": "text"
      },
      "source": [
        "<a href=\"https://colab.research.google.com/github/marcinwolter/NumericalAnalysis2020/blob/master/lab6_gaussian_elimination.ipynb\" target=\"_parent\"><img src=\"https://colab.research.google.com/assets/colab-badge.svg\" alt=\"Open In Colab\"/></a>"
      ]
    },
    {
      "cell_type": "code",
      "metadata": {
        "id": "bZLFNCPcnRZt",
        "colab_type": "code",
        "colab": {
          "base_uri": "https://localhost:8080/",
          "height": 278
        },
        "outputId": "ad035489-1d28-483e-93e0-b70c0e159d56"
      },
      "source": [
        "# Gaussian elimination\n",
        "\n",
        "import scipy \n",
        "import scipy.linalg\n",
        "import numpy as np\n",
        "import copy\n",
        "\n",
        "def linearsolver(A,b):\n",
        "  n = len(A)\n",
        "  M = A\n",
        "\n",
        "  i = 0\n",
        "  for x in M:\n",
        "   x.append(b[i])\n",
        "   i += 1\n",
        "\n",
        "\n",
        "  for k in range(n):\n",
        "   # first pivoting\n",
        "   for i in range(k,n):\n",
        "     if abs(M[i][k]) > abs(M[k][k]):\n",
        "        M[k], M[i] = M[i],M[k]\n",
        "     else:\n",
        "        pass\n",
        "   \n",
        "   # Gaussian elimination in loop \n",
        "   for j in range(k+1,n):\n",
        "       q = float(M[j][k]) / M[k][k]\n",
        "       for m in range(k, n+1):\n",
        "          # M_jm = M_jm - M_jk / M_kk *M_km\n",
        "          M[j][m] -=  q * M[k][m]\n",
        "\n",
        "  x = [0 for i in range(n)]       # x = [0, 0, .... , 0]\n",
        "\n",
        "  # calculating x\n",
        "  x[n-1] =float(M[n-1][n])/M[n-1][n-1]\n",
        "  for i in range (n-1,-1,-1):\n",
        "    z = 0\n",
        "    for j in range(i+1,n):\n",
        "        z = z  + float(M[i][j])*x[j]\n",
        "    x[i] = float(M[i][n] - z)/M[i][i]\n",
        "  return x\n",
        "\n",
        "\n",
        "A = [[2, 1, 1, 0], [4, 3, 3, 1], [8, 7, 9, 5], [6, 7, 9, 8]]\n",
        "b = [1, 2, 3, 4]\n",
        "\n",
        "A1 = copy.deepcopy(A)\n",
        "x = linearsolver(A1, b)\n",
        "\n",
        "print(\"Result with our linearsolver:\")\n",
        "print(np.array(A),\" * x = \",np.array(b))\n",
        "print(\"Solution:\")\n",
        "print(x)\n",
        "\n",
        "\n",
        "\n",
        "\n",
        "x = scipy.linalg.solve(A,b)\n",
        "\n",
        "print(\" \")\n",
        "print(\"Result with linalg.solve:\")\n",
        "print(np.array(A),\" * x = \",np.array(b))\n",
        "print(\"Solution:\")\n",
        "print(x)\n"
      ],
      "execution_count": 16,
      "outputs": [
        {
          "output_type": "stream",
          "text": [
            "Result with our linearsolver:\n",
            "[[2 1 1 0]\n",
            " [4 3 3 1]\n",
            " [8 7 9 5]\n",
            " [6 7 9 8]]  * x =  [1 2 3 4]\n",
            "Solution:\n",
            "[0.9999999999999993, 0.5000000000000008, -1.4999999999999998, 0.9999999999999997]\n",
            " \n",
            "Result with linalg.solve:\n",
            "[[2 1 1 0]\n",
            " [4 3 3 1]\n",
            " [8 7 9 5]\n",
            " [6 7 9 8]]  * x =  [1 2 3 4]\n",
            "Solution:\n",
            "[ 1.   0.5 -1.5  1. ]\n"
          ],
          "name": "stdout"
        }
      ]
    }
  ]
}