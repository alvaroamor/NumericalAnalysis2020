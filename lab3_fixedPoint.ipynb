{
  "nbformat": 4,
  "nbformat_minor": 0,
  "metadata": {
    "colab": {
      "name": "lab3_fixedPoint.ipynb",
      "provenance": [],
      "authorship_tag": "ABX9TyNCJlarcqh3VGwqhdrwJC1y",
      "include_colab_link": true
    },
    "kernelspec": {
      "name": "python3",
      "display_name": "Python 3"
    }
  },
  "cells": [
    {
      "cell_type": "markdown",
      "metadata": {
        "id": "view-in-github",
        "colab_type": "text"
      },
      "source": [
        "<a href=\"https://colab.research.google.com/github/marcinwolter/NumericalAnalysis2020/blob/master/lab3_fixedPoint.ipynb\" target=\"_parent\"><img src=\"https://colab.research.google.com/assets/colab-badge.svg\" alt=\"Open In Colab\"/></a>"
      ]
    },
    {
      "cell_type": "markdown",
      "metadata": {
        "id": "-FoDJZdqApej",
        "colab_type": "text"
      },
      "source": [
        "# **Fixed Point Iteration Method**"
      ]
    },
    {
      "cell_type": "code",
      "metadata": {
        "id": "Gve5kE4XAdu8",
        "colab_type": "code",
        "colab": {
          "base_uri": "https://localhost:8080/",
          "height": 278
        },
        "outputId": "db29b49f-4602-4d4d-c135-48bd5d2f788e"
      },
      "source": [
        "# Fixed Point Iteration Method\n",
        "# Importing math to use sqrt function\n",
        "import math\n",
        "\n",
        "def f(x):\n",
        "   return x*x*x + x*x -1\n",
        "\n",
        "# Re-writing f(x)=0 to x = g(x)\n",
        "def g(x):\n",
        "   return 1/math.sqrt(1+x)\n",
        "\n",
        "# Implementing Fixed Point Iteration Method\n",
        "def fixedPointIteration(x0, e, N):\n",
        "   print('\\n\\n*** FIXED POINT ITERATION ***')\n",
        "   step = 1\n",
        "   flag = 1\n",
        "   condition = True\n",
        "   while condition:\n",
        "      x1 = g(x0)\n",
        "      print('Iteration-%d, x1 = %0.6f and f(x1) = %0.6f' % (step, x1, f(x1)))\n",
        "      x0 = x1\n",
        "      step = step + 1\n",
        "      if step > N:\n",
        "         flag=0\n",
        "         break\n",
        "      condition = abs(f(x1)) > e\n",
        "   if flag==1:\n",
        "       print('\\nRequired root is: %0.8f' % x1)\n",
        "   else:\n",
        "       print('\\nNot Convergent.')\n",
        "\n",
        "\n",
        "# Input Section\n",
        "x0 = input('Enter Guess: ')\n",
        "e = input('Tolerable Error: ')\n",
        "N = input('Maximum Step: ')\n",
        "# Converting x0 and e to float\n",
        "x0 = float(x0)\n",
        "e = float(e)\n",
        "# Converting N to integer\n",
        "N = int(N)\n",
        "#Note: You can combine above three section like this\n",
        "# x0 = float(input('Enter Guess: '))\n",
        "# e = float(input('Tolerable Error: '))\n",
        "# N = int(input('Maximum Step: '))\n",
        "# Starting fixed point iteration\n",
        "fixedPointIteration(x0,e,N)\n"
      ],
      "execution_count": 3,
      "outputs": [
        {
          "output_type": "stream",
          "text": [
            "Enter Guess: 0\n",
            "Tolerable Error: 0.0001\n",
            "Maximum Step: 20\n",
            "\n",
            "\n",
            "*** FIXED POINT ITERATION ***\n",
            "Iteration-1, x1 = 1.000000 and f(x1) = 1.000000\n",
            "Iteration-2, x1 = 0.707107 and f(x1) = -0.146447\n",
            "Iteration-3, x1 = 0.765367 and f(x1) = 0.034128\n",
            "Iteration-4, x1 = 0.752632 and f(x1) = -0.007214\n",
            "Iteration-5, x1 = 0.755361 and f(x1) = 0.001557\n",
            "Iteration-6, x1 = 0.754774 and f(x1) = -0.000335\n",
            "Iteration-7, x1 = 0.754900 and f(x1) = 0.000072\n",
            "\n",
            "Required root is: 0.75490003\n"
          ],
          "name": "stdout"
        }
      ]
    }
  ]
}