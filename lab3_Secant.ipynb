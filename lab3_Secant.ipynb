{
  "nbformat": 4,
  "nbformat_minor": 0,
  "metadata": {
    "colab": {
      "name": "lab3_Secant.ipynb",
      "provenance": [],
      "authorship_tag": "ABX9TyOG8ISunqZbF7g22CLRt9WX",
      "include_colab_link": true
    },
    "kernelspec": {
      "name": "python3",
      "display_name": "Python 3"
    }
  },
  "cells": [
    {
      "cell_type": "markdown",
      "metadata": {
        "id": "view-in-github",
        "colab_type": "text"
      },
      "source": [
        "<a href=\"https://colab.research.google.com/github/marcinwolter/NumericalAnalysis2020/blob/master/lab3_Secant.ipynb\" target=\"_parent\"><img src=\"https://colab.research.google.com/assets/colab-badge.svg\" alt=\"Open In Colab\"/></a>"
      ]
    },
    {
      "cell_type": "code",
      "metadata": {
        "id": "svIACGHgjUmx",
        "colab_type": "code",
        "colab": {
          "base_uri": "https://localhost:8080/",
          "height": 451
        },
        "outputId": "a0589d45-01e3-4284-a151-0008fbe140d2"
      },
      "source": [
        "# Defining Function\n",
        "def f(x):\n",
        "   return x**3 - 5*x - 9\n",
        "# Implementing Secant Method\n",
        "def secant(x0,x1,e,N):\n",
        "   print('\\n\\n*** SECANT METHOD IMPLEMENTATION ***')\n",
        "   step = 1\n",
        "   condition = True\n",
        "   while condition:\n",
        "      if f(x0) == f(x1):\n",
        "         print('Divide by zero error!')\n",
        "         break\n",
        "      x2 = x0 - (x1-x0)*f(x0)/( f(x1) - f(x0) )\n",
        "      print('Iteration-%d, x2 = %0.6f and f(x2) = %0.6f' % (step, x2, f(x2)))\n",
        "      x0 = x1\n",
        "      x1 = x2\n",
        "      step = step + 1\n",
        "      if step > N:\n",
        "         print('Not Convergent!')\n",
        "         break\n",
        "      condition = abs(f(x2)) > e\n",
        "      print('\\n Required root is: %0.8f' % x2)\n",
        "\n",
        "\n",
        "# Input Section\n",
        "x0 = input('Enter First Guess: ')\n",
        "x1 = input('Enter Second Guess: ')\n",
        "e = input('Tolerable Error: ')\n",
        "N = input('Maximum Step: ')\n",
        "# Converting x0 and e to float\n",
        "x0 = float(x0)\n",
        "x1 = float(x1)\n",
        "e = float(e)\n",
        "# Converting N to integer\n",
        "N = int(N)\n",
        "#Note: You can combine above three section like this\n",
        "# x0 = float(input('Enter First Guess: '))\n",
        "# x1 = float(input('Enter Second Guess: '))\n",
        "# e = float(input('Tolerable Error: '))\n",
        "# N = int(input('Maximum Step: '))\n",
        "# Starting Secant Method\n",
        "secant(x0,x1,e,N)\n"
      ],
      "execution_count": 1,
      "outputs": [
        {
          "output_type": "stream",
          "text": [
            "Enter First Guess: 2\n",
            "Enter Second Guess: 2.2\n",
            "Tolerable Error: 0.000001\n",
            "Maximum Step: 100\n",
            "\n",
            "\n",
            "*** SECANT METHOD IMPLEMENTATION ***\n",
            "Iteration-1, x2 = 3.334951 and f(x2) = 11.416243\n",
            "\n",
            " Required root is: 3.33495146\n",
            "Iteration-2, x2 = 2.711072 and f(x2) = -2.629222\n",
            "\n",
            " Required root is: 2.71107192\n",
            "Iteration-3, x2 = 2.827858 and f(x2) = -0.525525\n",
            "\n",
            " Required root is: 2.82785822\n",
            "Iteration-4, x2 = 2.857033 and f(x2) = 0.035753\n",
            "\n",
            " Required root is: 2.85703263\n",
            "Iteration-5, x2 = 2.855174 and f(x2) = -0.000434\n",
            "\n",
            " Required root is: 2.85517426\n",
            "Iteration-6, x2 = 2.855197 and f(x2) = -0.000000\n",
            "\n",
            " Required root is: 2.85519652\n"
          ],
          "name": "stdout"
        }
      ]
    }
  ]
}